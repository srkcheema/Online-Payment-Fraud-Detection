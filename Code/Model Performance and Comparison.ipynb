{
 "cells": [
  {
   "cell_type": "markdown",
   "metadata": {
    "id": "PEcQCcZTsKPC"
   },
   "source": [
    "# Model Performance and Comparison"
   ]
  },
  {
   "cell_type": "markdown",
   "metadata": {
    "id": "SXuMnCotsOtT"
   },
   "source": [
    "To measure the performance of a model, we need several elements\n",
    "\n",
    "**Confusion matrix** : also known as the error matrix, allows visualization of the performance of an algorithm\n",
    "\n",
    "    True Positive (TP) : Transaction correctly identified as fraud\n",
    "    True Negative (TN) : Transaction correctly identified as not fraud\n",
    "    False Positive (FP) : Transaction incorrectly identified as fraud\n",
    "    False Negative (FN) : Transaction incorrectly identified as not fraud\n",
    "\n",
    "**Metrics**\n",
    "\n",
    "    Accuracy : (TP + TN) / (TP + TN + FP +FN)\n",
    "    Precision : TP / (TP + FP)\n",
    "    Recall : TP / (TP + FN)\n",
    "    F1 score : 2 x ((Precision x Recall) / (Precision + Recall))\n",
    "\n",
    "**Roc Curve** : The ROC curve is created by plotting the true positive rate (TPR) against the false positive rate (FPR) at various threshold settings.\n",
    "\n",
    "**Precision Recall Curve** :  Shows the tradeoff between precision and recall for different threshold"
   ]
  },
  {
   "cell_type": "markdown",
   "metadata": {
    "id": "syis7zoQsSFX"
   },
   "source": [
    "### 1.1. Load libraries"
   ]
  },
  {
   "cell_type": "markdown",
   "metadata": {
    "id": "OAiQ8bldsUd1"
   },
   "source": [
    "Loading the libraries"
   ]
  },
  {
   "cell_type": "code",
   "execution_count": 1,
   "metadata": {
    "id": "h0xfrGwRdMZw"
   },
   "outputs": [],
   "source": [
    "import pandas as pd\n",
    "import numpy as np\n",
    "import matplotlib.pyplot as plt\n",
    "import seaborn as sns\n",
    "from sklearn.linear_model import LogisticRegression\n",
    "from sklearn.ensemble import RandomForestClassifier\n",
    "from sklearn.tree import DecisionTreeClassifier\n",
    "from sklearn.ensemble import GradientBoostingClassifier\n",
    "from sklearn.neighbors import KNeighborsClassifier\n",
    "from sklearn.naive_bayes import GaussianNB \n",
    "from sklearn.svm import SVC\n",
    "from sklearn.model_selection import cross_val_score\n",
    "from sklearn.model_selection import train_test_split\n",
    "from sklearn.metrics import confusion_matrix\n",
    "from sklearn.metrics import roc_curve\n",
    "from sklearn.metrics import roc_auc_score\n",
    "from sklearn.metrics import precision_recall_curve\n",
    "from sklearn.metrics import auc\n",
    "import warnings\n",
    "warnings.filterwarnings('ignore')"
   ]
  },
  {
   "cell_type": "markdown",
   "metadata": {
    "id": "pVQKfTSlsYge"
   },
   "source": [
    "Setting the default values for plots"
   ]
  },
  {
   "cell_type": "code",
   "execution_count": 2,
   "metadata": {
    "id": "psoqV5lidP3T"
   },
   "outputs": [],
   "source": [
    "plt.rc('axes', titlesize=18)\n",
    "plt.rc('axes', labelsize=15)\n",
    "plt.rc('xtick', labelsize=13)\n",
    "plt.rc('ytick', labelsize=13)\n",
    "plt.rc('figure', titlesize=35)\n",
    "plt.rc('legend', fontsize=12)"
   ]
  },
  {
   "cell_type": "markdown",
   "metadata": {
    "id": "OjaN58-5sdaB"
   },
   "source": [
    "### 1.2. Read data"
   ]
  },
  {
   "cell_type": "markdown",
   "metadata": {
    "id": "LzZ0DBPrsfTo"
   },
   "source": [
    "Reading the data with pandas"
   ]
  },
  {
   "cell_type": "code",
   "execution_count": 3,
   "metadata": {
    "id": "wgKePlsUdRcB"
   },
   "outputs": [],
   "source": [
    "df=pd.read_csv('new_data.csv')"
   ]
  },
  {
   "cell_type": "markdown",
   "metadata": {
    "id": "c2oQ7EJ7slJL"
   },
   "source": [
    "## 2. Overview"
   ]
  },
  {
   "cell_type": "markdown",
   "metadata": {
    "id": "vaQsTEobsnp2"
   },
   "source": [
    "### 2.1. Head"
   ]
  },
  {
   "cell_type": "markdown",
   "metadata": {
    "id": "iPJFd744spzp"
   },
   "source": [
    "Checking data head"
   ]
  },
  {
   "cell_type": "code",
   "execution_count": 4,
   "metadata": {
    "colab": {
     "base_uri": "https://localhost:8080/",
     "height": 204
    },
    "id": "IT0DwQ-IdTG8",
    "outputId": "5b6e74b3-f4f4-4050-c6a1-6cf93d414b3b"
   },
   "outputs": [
    {
     "data": {
      "text/html": [
       "\n",
       "  <div id=\"df-5b0dd01e-0741-4d3e-9496-61643195091f\">\n",
       "    <div class=\"colab-df-container\">\n",
       "      <div>\n",
       "<style scoped>\n",
       "    .dataframe tbody tr th:only-of-type {\n",
       "        vertical-align: middle;\n",
       "    }\n",
       "\n",
       "    .dataframe tbody tr th {\n",
       "        vertical-align: top;\n",
       "    }\n",
       "\n",
       "    .dataframe thead th {\n",
       "        text-align: right;\n",
       "    }\n",
       "</style>\n",
       "<table border=\"1\" class=\"dataframe\">\n",
       "  <thead>\n",
       "    <tr style=\"text-align: right;\">\n",
       "      <th></th>\n",
       "      <th>isFraud</th>\n",
       "      <th>amount_new</th>\n",
       "      <th>oldbalanceOrg_new</th>\n",
       "      <th>newbalanceOrig_new</th>\n",
       "      <th>oldbalanceDest_new</th>\n",
       "      <th>newbalanceDest_new</th>\n",
       "    </tr>\n",
       "  </thead>\n",
       "  <tbody>\n",
       "    <tr>\n",
       "      <th>0</th>\n",
       "      <td>1</td>\n",
       "      <td>-4.096788</td>\n",
       "      <td>0.039564</td>\n",
       "      <td>-0.331128</td>\n",
       "      <td>-1.873353</td>\n",
       "      <td>-3.863134</td>\n",
       "    </tr>\n",
       "    <tr>\n",
       "      <th>1</th>\n",
       "      <td>1</td>\n",
       "      <td>-4.096788</td>\n",
       "      <td>0.039564</td>\n",
       "      <td>-0.331128</td>\n",
       "      <td>-0.917296</td>\n",
       "      <td>-3.863134</td>\n",
       "    </tr>\n",
       "    <tr>\n",
       "      <th>2</th>\n",
       "      <td>0</td>\n",
       "      <td>0.287913</td>\n",
       "      <td>0.856874</td>\n",
       "      <td>-0.331128</td>\n",
       "      <td>-1.191649</td>\n",
       "      <td>-1.591587</td>\n",
       "    </tr>\n",
       "    <tr>\n",
       "      <th>3</th>\n",
       "      <td>0</td>\n",
       "      <td>0.234287</td>\n",
       "      <td>0.297420</td>\n",
       "      <td>-0.331128</td>\n",
       "      <td>-0.904629</td>\n",
       "      <td>-3.863134</td>\n",
       "    </tr>\n",
       "    <tr>\n",
       "      <th>4</th>\n",
       "      <td>0</td>\n",
       "      <td>0.558130</td>\n",
       "      <td>0.795608</td>\n",
       "      <td>-0.331128</td>\n",
       "      <td>-1.156117</td>\n",
       "      <td>0.805223</td>\n",
       "    </tr>\n",
       "  </tbody>\n",
       "</table>\n",
       "</div>\n",
       "      <button class=\"colab-df-convert\" onclick=\"convertToInteractive('df-5b0dd01e-0741-4d3e-9496-61643195091f')\"\n",
       "              title=\"Convert this dataframe to an interactive table.\"\n",
       "              style=\"display:none;\">\n",
       "        \n",
       "  <svg xmlns=\"http://www.w3.org/2000/svg\" height=\"24px\"viewBox=\"0 0 24 24\"\n",
       "       width=\"24px\">\n",
       "    <path d=\"M0 0h24v24H0V0z\" fill=\"none\"/>\n",
       "    <path d=\"M18.56 5.44l.94 2.06.94-2.06 2.06-.94-2.06-.94-.94-2.06-.94 2.06-2.06.94zm-11 1L8.5 8.5l.94-2.06 2.06-.94-2.06-.94L8.5 2.5l-.94 2.06-2.06.94zm10 10l.94 2.06.94-2.06 2.06-.94-2.06-.94-.94-2.06-.94 2.06-2.06.94z\"/><path d=\"M17.41 7.96l-1.37-1.37c-.4-.4-.92-.59-1.43-.59-.52 0-1.04.2-1.43.59L10.3 9.45l-7.72 7.72c-.78.78-.78 2.05 0 2.83L4 21.41c.39.39.9.59 1.41.59.51 0 1.02-.2 1.41-.59l7.78-7.78 2.81-2.81c.8-.78.8-2.07 0-2.86zM5.41 20L4 18.59l7.72-7.72 1.47 1.35L5.41 20z\"/>\n",
       "  </svg>\n",
       "      </button>\n",
       "      \n",
       "  <style>\n",
       "    .colab-df-container {\n",
       "      display:flex;\n",
       "      flex-wrap:wrap;\n",
       "      gap: 12px;\n",
       "    }\n",
       "\n",
       "    .colab-df-convert {\n",
       "      background-color: #E8F0FE;\n",
       "      border: none;\n",
       "      border-radius: 50%;\n",
       "      cursor: pointer;\n",
       "      display: none;\n",
       "      fill: #1967D2;\n",
       "      height: 32px;\n",
       "      padding: 0 0 0 0;\n",
       "      width: 32px;\n",
       "    }\n",
       "\n",
       "    .colab-df-convert:hover {\n",
       "      background-color: #E2EBFA;\n",
       "      box-shadow: 0px 1px 2px rgba(60, 64, 67, 0.3), 0px 1px 3px 1px rgba(60, 64, 67, 0.15);\n",
       "      fill: #174EA6;\n",
       "    }\n",
       "\n",
       "    [theme=dark] .colab-df-convert {\n",
       "      background-color: #3B4455;\n",
       "      fill: #D2E3FC;\n",
       "    }\n",
       "\n",
       "    [theme=dark] .colab-df-convert:hover {\n",
       "      background-color: #434B5C;\n",
       "      box-shadow: 0px 1px 3px 1px rgba(0, 0, 0, 0.15);\n",
       "      filter: drop-shadow(0px 1px 2px rgba(0, 0, 0, 0.3));\n",
       "      fill: #FFFFFF;\n",
       "    }\n",
       "  </style>\n",
       "\n",
       "      <script>\n",
       "        const buttonEl =\n",
       "          document.querySelector('#df-5b0dd01e-0741-4d3e-9496-61643195091f button.colab-df-convert');\n",
       "        buttonEl.style.display =\n",
       "          google.colab.kernel.accessAllowed ? 'block' : 'none';\n",
       "\n",
       "        async function convertToInteractive(key) {\n",
       "          const element = document.querySelector('#df-5b0dd01e-0741-4d3e-9496-61643195091f');\n",
       "          const dataTable =\n",
       "            await google.colab.kernel.invokeFunction('convertToInteractive',\n",
       "                                                     [key], {});\n",
       "          if (!dataTable) return;\n",
       "\n",
       "          const docLinkHtml = 'Like what you see? Visit the ' +\n",
       "            '<a target=\"_blank\" href=https://colab.research.google.com/notebooks/data_table.ipynb>data table notebook</a>'\n",
       "            + ' to learn more about interactive tables.';\n",
       "          element.innerHTML = '';\n",
       "          dataTable['output_type'] = 'display_data';\n",
       "          await google.colab.output.renderOutput(dataTable, element);\n",
       "          const docLink = document.createElement('div');\n",
       "          docLink.innerHTML = docLinkHtml;\n",
       "          element.appendChild(docLink);\n",
       "        }\n",
       "      </script>\n",
       "    </div>\n",
       "  </div>\n",
       "  "
      ],
      "text/plain": [
       "   isFraud  amount_new  oldbalanceOrg_new  newbalanceOrig_new  \\\n",
       "0        1   -4.096788           0.039564           -0.331128   \n",
       "1        1   -4.096788           0.039564           -0.331128   \n",
       "2        0    0.287913           0.856874           -0.331128   \n",
       "3        0    0.234287           0.297420           -0.331128   \n",
       "4        0    0.558130           0.795608           -0.331128   \n",
       "\n",
       "   oldbalanceDest_new  newbalanceDest_new  \n",
       "0           -1.873353           -3.863134  \n",
       "1           -0.917296           -3.863134  \n",
       "2           -1.191649           -1.591587  \n",
       "3           -0.904629           -3.863134  \n",
       "4           -1.156117            0.805223  "
      ]
     },
     "execution_count": 4,
     "metadata": {},
     "output_type": "execute_result"
    }
   ],
   "source": [
    "df.head()"
   ]
  },
  {
   "cell_type": "markdown",
   "metadata": {
    "id": "dBH2R-5mssqh"
   },
   "source": [
    "### 2.2. Splitting Dataset"
   ]
  },
  {
   "cell_type": "markdown",
   "metadata": {
    "id": "4M9zvGZVsuwq"
   },
   "source": [
    "Splitting the target variable in y and all the other features in X"
   ]
  },
  {
   "cell_type": "code",
   "execution_count": 5,
   "metadata": {
    "id": "QqwbAc4gewQv"
   },
   "outputs": [],
   "source": [
    "X = df.drop(['isFraud'],axis=1)\n",
    "y = df.isFraud"
   ]
  },
  {
   "cell_type": "markdown",
   "metadata": {
    "id": "ZkyIH5gvszcL"
   },
   "source": [
    "## 3. Machine Learning"
   ]
  },
  {
   "cell_type": "markdown",
   "metadata": {
    "id": "hRY5w72vs1Yi"
   },
   "source": [
    "We will train out data on different machine learning models and use different techniques on each model and then compare our finding at the end to determine which model is working best for out data."
   ]
  },
  {
   "cell_type": "code",
   "execution_count": 6,
   "metadata": {
    "id": "4aSpkq8qexWC"
   },
   "outputs": [],
   "source": [
    "avg_accuracies={}\n",
    "accuracies={}\n",
    "roc_auc={}\n",
    "pr_auc={}"
   ]
  },
  {
   "cell_type": "code",
   "execution_count": 7,
   "metadata": {
    "id": "QgJi6iFleykR"
   },
   "outputs": [],
   "source": [
    "def cal_score(name,model,folds):\n",
    "    scores = ['accuracy', 'precision', 'recall', 'f1', 'roc_auc']\n",
    "    avg_result=[]\n",
    "    for sc in scores:\n",
    "        scores = cross_val_score(model, X, y, cv = folds, scoring = sc)\n",
    "        avg_result.append(np.average(scores))\n",
    "    df_avg_score=pd.DataFrame(avg_result)\n",
    "    df_avg_score= df_avg_score.rename(index={0: 'Accuracy', 1:'Precision', 2:'Recall',3:'F1 score',4:'Roc auc'},columns={0:'Average'})\n",
    "    avg_accuracies[name]=np.round(df_avg_score.loc['Accuracy']*100,3)\n",
    "    values=[np.round(df_avg_score.loc['Accuracy']*100,3),np.round(df_avg_score.loc['Precision']*100,3),np.round(df_avg_score.loc['Recall']*100,3),np.round(df_avg_score.loc['F1 score']*100,3),np.round(df_avg_score.loc['Roc auc']*100,3)]\n",
    "    plt.figure(figsize=(15,8))\n",
    "    sns.set_palette('mako')\n",
    "    ax=sns.barplot(x=['Accuracy','Precision','Recall','F1 score','Roc auc'],y=values)\n",
    "    plt.yticks(np.arange(0,100,10))\n",
    "    plt.ylabel('Percentage %',labelpad=10)\n",
    "    plt.xlabel('Scoring Parameters',labelpad=10)\n",
    "    plt.title('Cross Validation '+str(folds)+'-Folds Average Scores',pad=20)\n",
    "    for p in ax.patches:\n",
    "        ax.annotate(str(p.get_height()), (p.get_x(), p.get_height()),xytext=(p.get_x()+0.3,p.get_height()+1.02))\n",
    "    plt.show()"
   ]
  },
  {
   "cell_type": "code",
   "execution_count": 8,
   "metadata": {
    "id": "4Ln9TGTVezsp"
   },
   "outputs": [],
   "source": [
    "def conf_matrix(ytest,pred):\n",
    "    plt.figure(figsize=(9,6))\n",
    "    global cm1\n",
    "    cm1 = confusion_matrix(ytest, pred)\n",
    "    ax=sns.heatmap(cm1, annot= True, cmap='Blues')\n",
    "    plt.title('Confusion Matrix',pad=20)"
   ]
  },
  {
   "cell_type": "code",
   "execution_count": 9,
   "metadata": {
    "id": "CMtNHomke005"
   },
   "outputs": [],
   "source": [
    "def metrics_score(cm):\n",
    "    total=sum(sum(cm))\n",
    "    accuracy=(cm[0,0]+cm[1,1])/total\n",
    "    precision = cm[1,1]/(cm[0,1]+cm[1,1])\n",
    "    sensitivity = cm[1,1]/(cm[1,0]+cm[1,1])\n",
    "    f1 = 2 * (precision * sensitivity) / (precision + sensitivity)\n",
    "    specificity = cm[0,0]/(cm[0,1]+cm[0,0])\n",
    "    values=[np.round(accuracy*100,3),np.round(precision*100,3),np.round(sensitivity*100,3),np.round(f1*100,3),np.round(specificity*100,3)]\n",
    "    plt.figure(figsize=(15,8))\n",
    "    sns.set_palette('magma')\n",
    "    ax=sns.barplot(x=['Accuracy','Precision','Recall','F1 score','Specificity'],y=values)\n",
    "    plt.yticks(np.arange(0,100,10))\n",
    "    plt.ylabel('Percentage %',labelpad=10)\n",
    "    plt.xlabel('Scoring Parameter',labelpad=10)\n",
    "    plt.title('Metrics Scores',pad=20)\n",
    "    for p in ax.patches:\n",
    "        ax.annotate(str(p.get_height()), (p.get_x(), p.get_height()),xytext=(p.get_x()+0.3,p.get_height()+1.02))\n",
    "    plt.show()"
   ]
  },
  {
   "cell_type": "code",
   "execution_count": 10,
   "metadata": {
    "id": "bE2gteULe2LB"
   },
   "outputs": [],
   "source": [
    "def plot_roc_curve(fpr, tpr):\n",
    "    plt.figure(figsize=(8,6))\n",
    "    plt.plot(fpr, tpr, color='Orange', label='ROC')\n",
    "    plt.plot([0, 1], [0, 1], color='black', linestyle='--')\n",
    "    plt.ylabel('True Positive Rate',labelpad=10)\n",
    "    plt.xlabel('False Positive Rate',labelpad=10)\n",
    "    plt.title('Receiver Operating Characteristic (ROC) Curve',pad=20)\n",
    "    plt.legend()\n",
    "    plt.show()"
   ]
  },
  {
   "cell_type": "markdown",
   "metadata": {
    "id": "owJWq3NAzcLl"
   },
   "source": [
    "### 3.1. Logistic Regression"
   ]
  },
  {
   "cell_type": "markdown",
   "metadata": {
    "id": "1kqRglaDzdhW"
   },
   "source": [
    "The logistic model is a statistical model that models the probability of one event taking place by having the log-odds for the event be a linear combination of one or more independent variables."
   ]
  },
  {
   "cell_type": "code",
   "execution_count": 41,
   "metadata": {
    "colab": {
     "base_uri": "https://localhost:8080/"
    },
    "id": "jEEHRsX_zdEu",
    "outputId": "ef330b4c-85be-47e9-d255-9c34de07149f"
   },
   "outputs": [
    {
     "name": "stdout",
     "output_type": "stream",
     "text": [
      "Model Accuracy: 99.81158023541641\n"
     ]
    }
   ],
   "source": [
    "X_train, X_test, y_train, y_test = train_test_split(X,y,test_size=0.2,random_state = 5)\n",
    "lr = LogisticRegression()\n",
    "lr.fit(X_train, y_train)\n",
    "prediction1 = lr.predict(X_test)\n",
    "accuracy1 = lr.score(X_test, y_test) \n",
    "print ('Model Accuracy:',accuracy1 * 100)"
   ]
  },
  {
   "cell_type": "markdown",
   "metadata": {
    "id": "wl9fWMnOzfLk"
   },
   "source": [
    "Storing model accuracy to plot for comparison with other Machine Learning models."
   ]
  },
  {
   "cell_type": "code",
   "execution_count": 42,
   "metadata": {
    "id": "MIpYpvQYzfpw"
   },
   "outputs": [],
   "source": [
    "accuracies['Logistic Regression'] = np.round(accuracy1 * 100,3)"
   ]
  },
  {
   "cell_type": "markdown",
   "metadata": {
    "id": "PUe4WRifzgAJ"
   },
   "source": [
    "Plotting Confusion Matrix to describe the performance of Logistic Regression on a set of test data."
   ]
  },
  {
   "cell_type": "code",
   "execution_count": 43,
   "metadata": {
    "colab": {
     "base_uri": "https://localhost:8080/",
     "height": 411
    },
    "id": "RD1rngX-zgby",
    "outputId": "c0f023eb-0ccf-4be7-bde2-dfd98a12d134"
   },
   "outputs": [
    {
     "data": {
      "image/png": "[encoded data removed]",
      "text/plain": [
       "<Figure size 648x432 with 2 Axes>"
      ]
     },
     "metadata": {
      "needs_background": "light"
     },
     "output_type": "display_data"
    }
   ],
   "source": [
    "conf_matrix(y_test,prediction1)"
   ]
  },
  {
   "cell_type": "markdown",
   "metadata": {
    "id": "WoQxMGQ5zgsb"
   },
   "source": [
    "Plotting different metrics scores for the Logistic Regression for evaluation."
   ]
  },
  {
   "cell_type": "code",
   "execution_count": 44,
   "metadata": {
    "colab": {
     "base_uri": "https://localhost:8080/",
     "height": 545
    },
    "id": "BPQJLe12zhgR",
    "outputId": "a4f4edf0-5e5f-40c3-9699-01c94d17cc5a"
   },
   "outputs": [
    {
     "data": {
      "image/png": "[encoded data removed]",
      "text/plain": [
       "<Figure size 1080x576 with 1 Axes>"
      ]
     },
     "metadata": {
      "needs_background": "light"
     },
     "output_type": "display_data"
    }
   ],
   "source": [
    "metrics_score(cm1)"
   ]
  },
  {
   "cell_type": "markdown",
   "metadata": {
    "id": "x-islJ-p1eQO"
   },
   "source": [
    "Plotting Receiver Operating Characteristic (ROC) Curve, to illustrate the diagnostic ability of Logistic Regression as its discrimination threshold is varied and showing the Area under the ROC Curve (AUC) value which will tell us how much our model is capable of distinguishing between Fraud and Not Fraud."
   ]
  },
  {
   "cell_type": "code",
   "execution_count": 45,
   "metadata": {
    "colab": {
     "base_uri": "https://localhost:8080/",
     "height": 453
    },
    "id": "siGzo3xi2SIf",
    "outputId": "4a19a608-98af-41c5-b8f7-f5fbbeeaeee8"
   },
   "outputs": [
    {
     "name": "stdout",
     "output_type": "stream",
     "text": [
      "Area under the ROC Curve (AUC): 0.98\n"
     ]
    },
    {
     "data": {
      "image/png": "[encoded data removed]",
      "text/plain": [
       "<Figure size 576x432 with 1 Axes>"
      ]
     },
     "metadata": {
      "needs_background": "light"
     },
     "output_type": "display_data"
    }
   ],
   "source": [
    "probs = lr.predict_proba(X_test)\n",
    "probs = probs[:, 1]\n",
    "auc1 = roc_auc_score(y_test, probs)\n",
    "roc_auc['Logistic Regression']=np.round(auc1,3)\n",
    "print('Area under the ROC Curve (AUC): %.2f' % auc1)\n",
    "fpr1, tpr1, _ = roc_curve(y_test, probs)\n",
    "plot_roc_curve(fpr1, tpr1)"
   ]
  },
  {
   "cell_type": "markdown",
   "metadata": {
    "id": "Z5XIcJXA2xoL"
   },
   "source": [
    "### 3.2. K-Nearest Neighbors"
   ]
  },
  {
   "cell_type": "markdown",
   "metadata": {
    "id": "pPTMKZKT2w-y"
   },
   "source": [
    "KNN is a non-parametric, lazy learning algorithm. Its purpose is to use a database in which the data points are separated into several classes to predict the classification of a new sample point."
   ]
  },
  {
   "cell_type": "code",
   "execution_count": 46,
   "metadata": {
    "colab": {
     "base_uri": "https://localhost:8080/"
    },
    "id": "5PGvP4ty2yYr",
    "outputId": "c7081c32-4522-470a-b98f-e0ab8ac02bc6"
   },
   "outputs": [
    {
     "name": "stdout",
     "output_type": "stream",
     "text": [
      "Model Accuracy: 99.89658570392108\n"
     ]
    }
   ],
   "source": [
    "X_train, X_test, y_train, y_test = train_test_split(X,y,test_size=0.2,random_state = 5)\n",
    "knn = KNeighborsClassifier(n_neighbors =7 )\n",
    "knn.fit(X_train, y_train)\n",
    "prediction2 = knn.predict(X_test)\n",
    "accuracy2 = knn.score(X_test, y_test) \n",
    "print ('Model Accuracy:',accuracy2 * 100)"
   ]
  },
  {
   "cell_type": "markdown",
   "metadata": {
    "id": "aLILExJD2yvj"
   },
   "source": [
    "Storing model accuracy to plot for comparison with other Machine Learning models."
   ]
  },
  {
   "cell_type": "code",
   "execution_count": 47,
   "metadata": {
    "id": "o9-swA6l2zS-"
   },
   "outputs": [],
   "source": [
    "accuracies['KNN'] = np.round(accuracy2 * 100,3)"
   ]
  },
  {
   "cell_type": "markdown",
   "metadata": {
    "id": "s3mMxMfR2zjX"
   },
   "source": [
    "Plotting Confusion Matrix to describe the performance of K-Nearest Neighbours Classifier on a set of test data."
   ]
  },
  {
   "cell_type": "code",
   "execution_count": 48,
   "metadata": {
    "colab": {
     "base_uri": "https://localhost:8080/",
     "height": 411
    },
    "id": "l-6MgN2m20G6",
    "outputId": "b2843f86-b50d-4d4a-b1fe-492ed207f50e"
   },
   "outputs": [
    {
     "data": {
      "image/png": "[encoded data removed]",
      "text/plain": [
       "<Figure size 648x432 with 2 Axes>"
      ]
     },
     "metadata": {
      "needs_background": "light"
     },
     "output_type": "display_data"
    }
   ],
   "source": [
    "conf_matrix(y_test,prediction2)"
   ]
  },
  {
   "cell_type": "markdown",
   "metadata": {
    "id": "NJl9Pj8G20ko"
   },
   "source": [
    "Plotting different metrics scores for the K-Nearest Neighbours Classifier for evaluation."
   ]
  },
  {
   "cell_type": "code",
   "execution_count": 49,
   "metadata": {
    "colab": {
     "base_uri": "https://localhost:8080/",
     "height": 545
    },
    "id": "t7kHIkMA207g",
    "outputId": "c0107505-ce59-4e62-f4ab-021ca0bc8e6d"
   },
   "outputs": [
    {
     "data": {
      "image/png": "[encoded data removed]",
      "text/plain": [
       "<Figure size 1080x576 with 1 Axes>"
      ]
     },
     "metadata": {
      "needs_background": "light"
     },
     "output_type": "display_data"
    }
   ],
   "source": [
    "metrics_score(cm1)"
   ]
  },
  {
   "cell_type": "markdown",
   "metadata": {
    "id": "0u1EnbgB21Px"
   },
   "source": [
    "Plotting Receiver Operating Characteristic (ROC) Curve, to illustrate the diagnostic ability of K-Nearest Neighbours Classifier as its discrimination threshold is varied and showing the Area under the ROC Curve (AUC) value which will tell us how much our model is capable of distinguishing between Fraud and Not Fraud."
   ]
  },
  {
   "cell_type": "code",
   "execution_count": 50,
   "metadata": {
    "colab": {
     "base_uri": "https://localhost:8080/",
     "height": 453
    },
    "id": "quAP-AKt21lq",
    "outputId": "95cd391d-b5a0-4381-db8f-689bc2fadc0c"
   },
   "outputs": [
    {
     "name": "stdout",
     "output_type": "stream",
     "text": [
      "Area under the ROC Curve (AUC): 0.93\n"
     ]
    },
    {
     "data": {
      "image/png": "[encoded data removed]",
      "text/plain": [
       "<Figure size 576x432 with 1 Axes>"
      ]
     },
     "metadata": {
      "needs_background": "light"
     },
     "output_type": "display_data"
    }
   ],
   "source": [
    "probs = knn.predict_proba(X_test)\n",
    "probs = probs[:, 1]\n",
    "auc2 = roc_auc_score(y_test, probs)\n",
    "roc_auc['KNN']=np.round(auc2,3)\n",
    "print('Area under the ROC Curve (AUC): %.2f' % auc2)\n",
    "fpr2, tpr2, _ = roc_curve(y_test, probs)\n",
    "plot_roc_curve(fpr2, tpr2)"
   ]
  },
  {
   "cell_type": "markdown",
   "metadata": {
    "id": "bPm70T0t4I-V"
   },
   "source": [
    "### 3.3. Support Vector **Machine**"
   ]
  },
  {
   "cell_type": "markdown",
   "metadata": {
    "id": "a_Yk7YlO4Ngx"
   },
   "source": [
    "A Support Vector Machine (SVM) is a supervised machine learning algorithm that can be employed for both classification and regression purposes. SVMs are based on the idea of finding a hyperplane that best divides a dataset into two classes."
   ]
  },
  {
   "cell_type": "code",
   "execution_count": null,
   "metadata": {
    "id": "Q0NpSs2vxyBz"
   },
   "outputs": [],
   "source": [
    "X_train, X_test, y_train, y_test = train_test_split(X,y,test_size=0.2,random_state = 2)\n",
    "svm = SVC(probability=True)\n",
    "svm.fit(X_train, y_train)\n",
    "prediction3 = svm.predict(X_test)\n",
    "accuracy3 = svm.score(X_test, y_test) \n",
    "print ('Model Accuracy:',accuracy3 * 100)"
   ]
  },
  {
   "cell_type": "markdown",
   "metadata": {
    "id": "VTz1EIAt4TV8"
   },
   "source": [
    "Storing model accuracy to plot for comparison with other Machine Learning models."
   ]
  },
  {
   "cell_type": "code",
   "execution_count": null,
   "metadata": {
    "id": "Dp6jhgq64S1V"
   },
   "outputs": [],
   "source": [
    "accuracies['SVM'] = np.round(accuracy3 * 100,3)"
   ]
  },
  {
   "cell_type": "markdown",
   "metadata": {
    "id": "2ytzy04h4ZaQ"
   },
   "source": [
    "Plotting Confusion Matrix to describe the performance of Support Vector Machine Classifier on a set of test data."
   ]
  },
  {
   "cell_type": "code",
   "execution_count": null,
   "metadata": {
    "id": "NstTM30Z4bXD"
   },
   "outputs": [],
   "source": [
    "conf_matrix(y_test,prediction3)"
   ]
  },
  {
   "cell_type": "markdown",
   "metadata": {
    "id": "5ksAOfub4co4"
   },
   "source": [
    "Plotting different metrics scores for the Support Vector Machine Classifier for evaluation."
   ]
  },
  {
   "cell_type": "code",
   "execution_count": null,
   "metadata": {
    "id": "fZNt8aUR4cJR"
   },
   "outputs": [],
   "source": [
    "metrics_score(cm1)"
   ]
  },
  {
   "cell_type": "markdown",
   "metadata": {
    "id": "58XRVSUi4lyG"
   },
   "source": [
    "Plotting Receiver Operating Characteristic (ROC) Curve, to illustrate the diagnostic ability of Support Vector Machine Classifier as its discrimination threshold is varied and showing the Area under the ROC Curve (AUC) value which will tell us how much our model is capable of distinguishing between Fraud and Not Fraud."
   ]
  },
  {
   "cell_type": "code",
   "execution_count": null,
   "metadata": {
    "id": "LDkRrFDI4lge"
   },
   "outputs": [],
   "source": [
    "probs = svm.predict_proba(X_test)\n",
    "probs = probs[:, 1]\n",
    "auc3 = roc_auc_score(y_test, probs)\n",
    "roc_auc['SVM']=np.round(auc3,3)\n",
    "print('Area under the ROC Curve (AUC): %.2f' % auc3)\n",
    "fpr3, tpr3, _ = roc_curve(y_test, probs)\n",
    "plot_roc_curve(fpr3, tpr3)"
   ]
  },
  {
   "cell_type": "markdown",
   "metadata": {
    "id": "PkPmVQbh5ccG"
   },
   "source": [
    "### 3.4. Decision Tree"
   ]
  },
  {
   "cell_type": "markdown",
   "metadata": {
    "id": "_PX_VLnb5cx3"
   },
   "source": [
    "Decision Trees are a non-parametric supervised learning method used for classification and regression. The goal is to create a model that predicts the value of a target variable by learning simple decision rules inferred from the data features."
   ]
  },
  {
   "cell_type": "code",
   "execution_count": 11,
   "metadata": {
    "colab": {
     "base_uri": "https://localhost:8080/"
    },
    "id": "SMNN4D8a5Uo5",
    "outputId": "691e3f89-b5a0-40ce-f668-10813cb2ceb2"
   },
   "outputs": [
    {
     "name": "stdout",
     "output_type": "stream",
     "text": [
      "Model Accuracy: 99.92744756191321\n"
     ]
    }
   ],
   "source": [
    "X_train, X_test, y_train, y_test = train_test_split(X,y,test_size=0.2,random_state = 4)\n",
    "dtc = DecisionTreeClassifier(random_state = 5)\n",
    "dtc.fit(X_train, y_train)\n",
    "prediction4 = dtc.predict(X_test)\n",
    "accuracy4 = dtc.score(X_test, y_test)\n",
    "print ('Model Accuracy:',accuracy4 * 100)"
   ]
  },
  {
   "cell_type": "markdown",
   "metadata": {
    "id": "Qne42iLb5iJi"
   },
   "source": [
    "Storing model accuracy to plot for comparison with other Machine Learning models."
   ]
  },
  {
   "cell_type": "code",
   "execution_count": null,
   "metadata": {
    "id": "5zU3ckf15igC"
   },
   "outputs": [],
   "source": [
    "accuracies['Decision Tree'] = np.round(accuracy4 * 100,3)"
   ]
  },
  {
   "cell_type": "markdown",
   "metadata": {
    "id": "XhL0ibZ35i-i"
   },
   "source": [
    "Plotting Confusion Matrix to describe the performance of Decision Tree Classifier on a set of test data."
   ]
  },
  {
   "cell_type": "code",
   "execution_count": null,
   "metadata": {
    "id": "6aTesVF35jam"
   },
   "outputs": [],
   "source": [
    "conf_matrix(y_test,prediction4)"
   ]
  },
  {
   "cell_type": "markdown",
   "metadata": {
    "id": "DFIg5s445vx5"
   },
   "source": [
    "Plotting different metrics scores for the Decision Tree Classifier for evaluation."
   ]
  },
  {
   "cell_type": "code",
   "execution_count": null,
   "metadata": {
    "id": "L1f2ELaq5wKS"
   },
   "outputs": [],
   "source": [
    "metrics_score(cm1)"
   ]
  },
  {
   "cell_type": "markdown",
   "metadata": {
    "id": "n_Q12Yag5wZg"
   },
   "source": [
    "Plotting Receiver Operating Characteristic (ROC) Curve, to illustrate the diagnostic ability of Decision Tree Classifier as its discrimination threshold is varied and showing the Area under the ROC Curve (AUC) value which will tell us how much our model is capable of distinguishing between Fraud and Not Fraud."
   ]
  },
  {
   "cell_type": "code",
   "execution_count": null,
   "metadata": {
    "id": "kQEBO3ye5wtD"
   },
   "outputs": [],
   "source": [
    "probs = dtc.predict_proba(X_test)\n",
    "probs = probs[:, 1]\n",
    "auc4 = roc_auc_score(y_test, probs)\n",
    "roc_auc['Decision Tree']=np.round(auc4,3)\n",
    "print('Area under the ROC Curve (AUC): %.2f' % auc4)\n",
    "fpr4, tpr4, _ = roc_curve(y_test, probs)\n",
    "plot_roc_curve(fpr4, tpr4)"
   ]
  },
  {
   "cell_type": "markdown",
   "metadata": {
    "id": "U_5TCdjE6Gp1"
   },
   "source": [
    "### 3.5. Random Forest"
   ]
  },
  {
   "cell_type": "markdown",
   "metadata": {
    "id": "H8BVSdyQ6H4r"
   },
   "source": [
    "A Random Forest is a meta estimator that fits a number of decision tree classifiers on various sub-samples of the dataset and uses averaging to improve the predictive accuracy and control over-fitting."
   ]
  },
  {
   "cell_type": "code",
   "execution_count": null,
   "metadata": {
    "id": "lj5__-wM6GCk"
   },
   "outputs": [],
   "source": [
    "X_train, X_test, y_train, y_test = train_test_split(X,y,test_size=0.2,random_state = 5)\n",
    "rf = RandomForestClassifier(n_estimators = 108, random_state = 5)\n",
    "rf.fit(X_train, y_train)\n",
    "prediction5 = rf.predict(X_test)\n",
    "accuracy5 = rf.score(X_test, y_test) \n",
    "print ('Model Accuracy:',accuracy5 * 100)"
   ]
  },
  {
   "cell_type": "markdown",
   "metadata": {
    "id": "Dyshns_u6JNV"
   },
   "source": [
    "Storing model accuracy to plot for comparison with other Machine Learning models."
   ]
  },
  {
   "cell_type": "code",
   "execution_count": null,
   "metadata": {
    "id": "OpvscuEr6IQz"
   },
   "outputs": [],
   "source": [
    "accuracies['Random Forest'] = np.round(accuracy5 * 100,3)"
   ]
  },
  {
   "cell_type": "markdown",
   "metadata": {
    "id": "OVuQUaFG6Jp2"
   },
   "source": [
    "Plotting Confusion Matrix to describe the performance of Random Forest Classifier on a set of test data."
   ]
  },
  {
   "cell_type": "code",
   "execution_count": null,
   "metadata": {
    "id": "yhRFmjLw6KIv"
   },
   "outputs": [],
   "source": [
    "conf_matrix(y_test,prediction5)"
   ]
  },
  {
   "cell_type": "markdown",
   "metadata": {
    "id": "w55GizXD6Kcn"
   },
   "source": [
    "Plotting different metrics scores for the Random Forest Classifier for evaluation."
   ]
  },
  {
   "cell_type": "code",
   "execution_count": null,
   "metadata": {
    "id": "eAkiELQw6Kye"
   },
   "outputs": [],
   "source": [
    "metrics_score(cm1)"
   ]
  },
  {
   "cell_type": "markdown",
   "metadata": {
    "id": "A2oX2wQc6h-Q"
   },
   "source": [
    "Plotting Receiver Operating Characteristic (ROC) Curve, to illustrate the diagnostic ability of Random Forest Classifier as its discrimination threshold is varied and showing the Area under the ROC Curve (AUC) value which will tell us how much our model is capable of distinguishing between Fraud and Not Fraud."
   ]
  },
  {
   "cell_type": "code",
   "execution_count": null,
   "metadata": {
    "id": "dX3QmvwC6hua"
   },
   "outputs": [],
   "source": [
    "probs = rf.predict_proba(X_test)\n",
    "probs = probs[:, 1]\n",
    "auc5 = roc_auc_score(y_test, probs)\n",
    "roc_auc['Random Forest']=np.round(auc5,3)\n",
    "print('Area under the ROC Curve (AUC): %.2f' % auc5)\n",
    "fpr5, tpr5, _ = roc_curve(y_test, probs)\n",
    "plot_roc_curve(fpr5, tpr5)"
   ]
  },
  {
   "cell_type": "markdown",
   "metadata": {
    "id": "ORT_YcoK6toB"
   },
   "source": [
    "## 4. Performance Comparison"
   ]
  },
  {
   "cell_type": "markdown",
   "metadata": {
    "id": "E6QZsXOk6wXW"
   },
   "source": [
    "Plotting the accuracy metric score of the machine learning models for comparison."
   ]
  },
  {
   "cell_type": "code",
   "execution_count": null,
   "metadata": {
    "id": "XlBn_Bz26umv"
   },
   "outputs": [],
   "source": [
    "plt.figure(figsize=(15,8))\n",
    "sns.set_palette('cividis')\n",
    "ax=sns.barplot(x=list(accuracies.keys()),y=list(accuracies.values()))\n",
    "plt.yticks(np.arange(0,100,10))\n",
    "plt.ylabel('Percentage %',labelpad=10)\n",
    "plt.xlabel('Algorithms',labelpad=10)\n",
    "plt.title('Accuracy Scores Comparison',pad=20)\n",
    "for p in ax.patches:\n",
    "    ax.annotate(str(p.get_height()), (p.get_x(), p.get_height()),xytext=(p.get_x()+0.3,p.get_height()+1.02))\n",
    "plt.show()"
   ]
  },
  {
   "cell_type": "markdown",
   "metadata": {
    "id": "nXbc3lSI6zPd"
   },
   "source": [
    "Plotting the ROC Curve of the machine learning models for comparison."
   ]
  },
  {
   "cell_type": "code",
   "execution_count": null,
   "metadata": {
    "id": "9XArY6NN664A"
   },
   "outputs": [],
   "source": [
    "plt.figure(figsize=(8,6))\n",
    "sns.set_palette('Set1')\n",
    "plt.plot(fpr1, tpr1, label='Logistic Regression ROC')\n",
    "plt.plot(fpr2, tpr2, label='KNN ROC')\n",
    "plt.plot(fpr3, tpr3, label='SVM ROC')\n",
    "plt.plot(fpr4, tpr4, label='Decision Tree ROC')\n",
    "plt.plot(fpr5, tpr5, label='Random Forest ROC')\n",
    "plt.plot([0, 1], [0, 1], linestyle='--')\n",
    "plt.ylabel('True Positive Rate',labelpad=10)\n",
    "plt.xlabel('False Positive Rate',labelpad=10)\n",
    "plt.title('Receiver Operating Characteristic (ROC) Curves',pad=20)\n",
    "plt.legend()\n",
    "plt.show()"
   ]
  }
 ],
 "metadata": {
  "colab": {
   "collapsed_sections": [],
   "name": "Untitled1.ipynb",
   "provenance": []
  },
  "kernelspec": {
   "display_name": "Python 3 (ipykernel)",
   "language": "python",
   "name": "python3"
  },
  "language_info": {
   "codemirror_mode": {
    "name": "ipython",
    "version": 3
   },
   "file_extension": ".py",
   "mimetype": "text/x-python",
   "name": "python",
   "nbconvert_exporter": "python",
   "pygments_lexer": "ipython3",
   "version": "3.7.7"
  }
 },
 "nbformat": 4,
 "nbformat_minor": 4
}
